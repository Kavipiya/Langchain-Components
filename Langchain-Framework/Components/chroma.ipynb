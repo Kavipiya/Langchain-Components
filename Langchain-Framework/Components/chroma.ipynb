{
 "cells": [
  {
   "cell_type": "markdown",
   "id": "6ec7682c",
   "metadata": {},
   "source": [
    "https://python.langchain.com/docs/integrations/vectorstores/\n",
    "\n",
    "Chroma\n",
    "\n",
    "Chroma is a AI-native open-source vector database focused on developer productivity and happiness. Chroma is licensed under Apache 2.0."
   ]
  },
  {
   "cell_type": "markdown",
   "id": "6ee34d42",
   "metadata": {},
   "source": []
  },
  {
   "cell_type": "code",
   "execution_count": null,
   "id": "5c8ae01d",
   "metadata": {},
   "outputs": [],
   "source": [
    "from langchain_community.document_loaders import TextLoader\n",
    "from langchain_chroma import Chroma\n",
    "from langchain_community.embeddings import OllamaEmbeddings\n",
    "from langchain_text_splitters import RecursiveCharacterTextSplitter\n",
    "\n",
    "loader = TextLoader(\"documents/sample.txt\")\n",
    "docs = loader.load()\n",
    "\n",
    "###Splitting the documents into smaller chunks for better processing and embedding generation\n",
    "\n",
    "text_splitter = RecursiveCharacterTextSplitter(chunk_size=100, chunk_overlap=10)\n",
    "docs_split = text_splitter.split_documents(docs)\n",
    "\n",
    "embeddings = OllamaEmbeddings(model=\"codellama\")\n"
   ]
  },
  {
   "cell_type": "code",
   "execution_count": 5,
   "id": "ab8776ca",
   "metadata": {},
   "outputs": [
    {
     "data": {
      "text/plain": [
       "<langchain_chroma.vectorstores.Chroma at 0x10aa13c50>"
      ]
     },
     "execution_count": 5,
     "metadata": {},
     "output_type": "execute_result"
    }
   ],
   "source": [
    "chroma_db = Chroma.from_documents(docs_split, embeddings)\n",
    "chroma_db"
   ]
  },
  {
   "cell_type": "code",
   "execution_count": 14,
   "id": "a8487348",
   "metadata": {},
   "outputs": [
    {
     "data": {
      "text/plain": [
       "'attention mechanisms'"
      ]
     },
     "execution_count": 14,
     "metadata": {},
     "output_type": "execute_result"
    }
   ],
   "source": [
    "### query it\n",
    "\n",
    "query = \"Attention mechanisms \"\n",
    "results = chroma_db.similarity_search(query)\n",
    "results[0].page_content"
   ]
  },
  {
   "cell_type": "code",
   "execution_count": 15,
   "id": "746c4220",
   "metadata": {},
   "outputs": [],
   "source": [
    "### Saving the Chroma database for future use\n",
    "vectordb = Chroma.from_documents(docs_split, embeddings, persist_directory=\"./chroma_db\")"
   ]
  },
  {
   "cell_type": "code",
   "execution_count": 19,
   "id": "3fde1533",
   "metadata": {},
   "outputs": [
    {
     "data": {
      "text/plain": [
       "[]"
      ]
     },
     "execution_count": 19,
     "metadata": {},
     "output_type": "execute_result"
    }
   ],
   "source": [
    "### Load from disk\n",
    "\n",
    "db2 = Chroma(persist_directory=\"./chroma.db\", embedding_function=embeddings)\n",
    "docs = db2.similarity_search(query)\n",
    "docs"
   ]
  },
  {
   "cell_type": "code",
   "execution_count": 21,
   "id": "fe3647ff",
   "metadata": {},
   "outputs": [
    {
     "data": {
      "text/plain": [
       "[(Document(id='0ed3d5c5-f36e-456b-ac87-02b62ae853af', metadata={'source': 'documents/sample.txt'}, page_content='attention mechanisms'),\n",
       "  4035.410888671875),\n",
       " (Document(id='22838115-d035-4660-8045-e2f5b2fe8706', metadata={'source': 'documents/sample.txt'}, page_content='attention mechanisms'),\n",
       "  4035.410888671875),\n",
       " (Document(id='a7bb790c-635f-4115-a126-430b7f6a962a', metadata={'source': 'documents/sample.txt'}, page_content='1 Introduction'),\n",
       "  5381.8115234375),\n",
       " (Document(id='4e29abeb-9379-4412-a6b5-72428c686446', metadata={'source': 'documents/sample.txt'}, page_content='1 Introduction'),\n",
       "  5381.8115234375)]"
      ]
     },
     "execution_count": 21,
     "metadata": {},
     "output_type": "execute_result"
    }
   ],
   "source": [
    "### Similarity Search with score\n",
    "\n",
    "docs = vectordb.similarity_search_with_score(query)\n",
    "docs"
   ]
  },
  {
   "cell_type": "markdown",
   "id": "498b0484",
   "metadata": {},
   "source": [
    "### Retriever Option"
   ]
  },
  {
   "cell_type": "code",
   "execution_count": 24,
   "id": "aacabb3a",
   "metadata": {},
   "outputs": [
    {
     "data": {
      "text/plain": [
       "'attention mechanisms'"
      ]
     },
     "execution_count": 24,
     "metadata": {},
     "output_type": "execute_result"
    }
   ],
   "source": [
    "retriever = vectordb.as_retriever()\n",
    "result_retrieve = retriever.invoke(query)[0].page_content\n",
    "result_retrieve"
   ]
  }
 ],
 "metadata": {
  "kernelspec": {
   "display_name": "Python 3",
   "language": "python",
   "name": "python3"
  },
  "language_info": {
   "codemirror_mode": {
    "name": "ipython",
    "version": 3
   },
   "file_extension": ".py",
   "mimetype": "text/x-python",
   "name": "python",
   "nbconvert_exporter": "python",
   "pygments_lexer": "ipython3",
   "version": "3.13.0"
  }
 },
 "nbformat": 4,
 "nbformat_minor": 5
}
