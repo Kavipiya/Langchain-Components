{
 "cells": [
  {
   "cell_type": "markdown",
   "id": "12ceab91",
   "metadata": {},
   "source": [
    "Embedding Techniques Using Hugging Face\n",
    "https://huggingface.co/\n",
    "\n",
    "Langchain"
   ]
  },
  {
   "cell_type": "code",
   "execution_count": 4,
   "id": "c00a1ade",
   "metadata": {},
   "outputs": [
    {
     "data": {
      "text/plain": [
       "True"
      ]
     },
     "execution_count": 4,
     "metadata": {},
     "output_type": "execute_result"
    }
   ],
   "source": [
    "import os\n",
    "from dotenv import load_dotenv\n",
    "load_dotenv()\n"
   ]
  },
  {
   "cell_type": "code",
   "execution_count": null,
   "id": "b24d3e03",
   "metadata": {},
   "outputs": [],
   "source": [
    "os.environ[\"HUGGINGFACEHUB_API_TOKEN\"] = os.getenv(\"HUGGINGFACEHUB_API_TOKEN\")"
   ]
  },
  {
   "cell_type": "markdown",
   "id": "344c3609",
   "metadata": {},
   "source": [
    "### Sentence Transformers on HuggingFace\n",
    "\n",
    "Hugging Face sentence-transformers is a Python framework for state of the art sentence, text and image embeddings. One of the embedding models is used in the HuggingFaceEmbeddings class. We have also added an alias for SentenceTransformerEmbeddings for users who are more familiar with directly using that package."
   ]
  },
  {
   "cell_type": "code",
   "execution_count": null,
   "id": "4650e678",
   "metadata": {},
   "outputs": [],
   "source": [
    "from langchain_huggingface import HuggingFaceEmbeddings\n",
    "embeddings = HuggingFaceEmbeddings(model_name=\"all-minilm-l6-v2\")\n"
   ]
  },
  {
   "cell_type": "code",
   "execution_count": null,
   "id": "7b75a40d",
   "metadata": {},
   "outputs": [],
   "source": [
    "text = \"This is a test sentence for generating embeddings using Hugging Face's sentence-transformers model.\"\n",
    "query_result = embeddings.embed_query(text)\n",
    "len(query_result)"
   ]
  },
  {
   "cell_type": "code",
   "execution_count": null,
   "id": "5af3e6ec",
   "metadata": {},
   "outputs": [],
   "source": [
    "doc_result = embeddings.embed_documents([text, \"This is another test sentence for generating embeddings.\"])\n",
    "doc_result[0]"
   ]
  }
 ],
 "metadata": {
  "kernelspec": {
   "display_name": "Python 3",
   "language": "python",
   "name": "python3"
  },
  "language_info": {
   "codemirror_mode": {
    "name": "ipython",
    "version": 3
   },
   "file_extension": ".py",
   "mimetype": "text/x-python",
   "name": "python",
   "nbconvert_exporter": "python",
   "pygments_lexer": "ipython3",
   "version": "3.13.0"
  }
 },
 "nbformat": 4,
 "nbformat_minor": 5
}
